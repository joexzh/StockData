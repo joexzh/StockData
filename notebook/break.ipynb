{
 "cells": [
  {
   "cell_type": "code",
   "execution_count": 24,
   "metadata": {
    "collapsed": true,
    "pycharm": {
     "name": "#%%\n"
    }
   },
   "outputs": [],
   "source": [
    "!cd .."
   ]
  },
  {
   "cell_type": "code",
   "execution_count": 25,
   "outputs": [],
   "source": [
    "from datetime import datetime, timedelta\n",
    "\n",
    "import pandas as pd\n",
    "import numpy as np\n",
    "\n",
    "import view.break_up as b"
   ],
   "metadata": {
    "collapsed": false,
    "pycharm": {
     "name": "#%%\n"
    }
   }
  },
  {
   "cell_type": "code",
   "execution_count": 26,
   "outputs": [
    {
     "data": {
      "text/plain": "datetime.datetime(2022, 2, 11, 18, 20, 3, 170416)"
     },
     "execution_count": 26,
     "metadata": {},
     "output_type": "execute_result"
    }
   ],
   "source": [
    "today = datetime.now() - timedelta(days=1)\n",
    "today"
   ],
   "metadata": {
    "collapsed": false,
    "pycharm": {
     "name": "#%%\n"
    }
   }
  },
  {
   "cell_type": "code",
   "execution_count": 27,
   "outputs": [
    {
     "name": "stdout",
     "output_type": "stream",
     "text": [
      "Wall time: 14.1 s\n"
     ]
    },
    {
     "data": {
      "text/plain": "['sh.603990',\n 'sh.603969',\n 'sh.603717',\n 'sh.603619',\n 'sh.603810',\n 'sh.603826',\n 'sz.000428',\n 'sz.000408',\n 'sz.000042',\n 'sz.000688',\n 'sz.000701',\n 'sz.000726',\n 'sz.000711',\n 'sz.000708',\n 'sz.000596',\n 'sz.000573',\n 'sz.000627',\n 'sz.000006',\n 'sz.000004',\n 'sz.000732',\n 'sh.600818',\n 'sh.600853',\n 'sh.600801',\n 'sh.600769',\n 'sh.600996',\n 'sh.600992',\n 'sh.600989',\n 'sh.600985',\n 'sh.600975',\n 'sh.600971',\n 'sh.601001',\n 'sh.601088',\n 'sh.601077',\n 'sh.601068',\n 'sh.601009',\n 'sh.600873',\n 'sh.600871',\n 'sh.600939',\n 'sh.600926',\n 'sh.600919',\n 'sh.600735',\n 'sh.600546',\n 'sh.600585',\n 'sh.600683',\n 'sh.600675',\n 'sh.600706',\n 'sh.600724',\n 'sh.600720',\n 'sh.600716',\n 'sh.601098',\n 'sh.600622',\n 'sh.600663',\n 'sh.603180',\n 'sh.603177',\n 'sh.603214',\n 'sh.603136',\n 'sh.603408',\n 'sh.603399',\n 'sh.603477',\n 'sh.603335',\n 'sh.601577',\n 'sh.601398',\n 'sh.601677',\n 'sh.601668',\n 'sh.601666',\n 'sh.601658',\n 'sh.601636',\n 'sh.601336',\n 'sh.601601',\n 'sh.601628',\n 'sh.601328',\n 'sh.601169',\n 'sh.601166',\n 'sh.601156',\n 'sh.601155',\n 'sh.601319',\n 'sh.601318',\n 'sh.601225',\n 'sh.601229',\n 'sh.601998',\n 'sh.601997',\n 'sh.601999',\n 'sh.601857',\n 'sh.601838',\n 'sh.601808',\n 'sh.601789',\n 'sh.601939',\n 'sh.601872',\n 'sh.601916',\n 'sh.601888',\n 'sz.300144',\n 'sz.002827',\n 'sz.002779',\n 'sz.300737',\n 'sz.002813',\n 'sz.002966',\n 'sz.003002',\n 'sz.002984',\n 'sz.300727',\n 'sz.300205',\n 'sz.300500',\n 'sz.300675',\n 'sz.300468',\n 'sz.300272',\n 'sz.300390',\n 'sz.300334',\n 'sz.002125',\n 'sz.002117',\n 'sz.002161',\n 'sz.002142',\n 'sz.002066',\n 'sz.002096',\n 'sz.002092',\n 'sz.002201',\n 'sz.000856',\n 'sz.000882',\n 'sz.000785',\n 'sz.000737',\n 'sz.000797',\n 'sz.000796',\n 'sz.000793',\n 'sz.000807',\n 'sz.002037',\n 'sz.000937',\n 'sz.000960',\n 'sz.002606',\n 'sz.002598',\n 'sz.002621',\n 'sz.002530',\n 'sz.002553',\n 'sz.002712',\n 'sz.002707',\n 'sz.002761',\n 'sz.002738',\n 'sz.002649',\n 'sz.002648',\n 'sz.002523',\n 'sz.002348',\n 'sz.002378',\n 'sz.002497',\n 'sz.002494',\n 'sz.002493',\n 'sz.002443',\n 'sh.600230',\n 'sh.600228',\n 'sh.600176',\n 'sh.600036',\n 'sh.600358',\n 'sh.600367',\n 'sh.600028',\n 'sh.600258',\n 'sh.600153',\n 'sh.600328',\n 'sh.600053',\n 'sh.600397',\n 'sh.600138',\n 'sh.600446',\n 'sh.600188',\n 'sh.600016',\n 'sh.600284',\n 'sh.600004',\n 'sh.600123',\n 'sz.301038',\n 'sz.301049',\n 'sz.300854',\n 'sz.301092']"
     },
     "execution_count": 27,
     "metadata": {},
     "output_type": "execute_result"
    }
   ],
   "source": [
    "%%time\n",
    "# codes = b.get_valid_codes(date_str)\n",
    "# codes\n",
    "b.get_break_up_codes(today)"
   ],
   "metadata": {
    "collapsed": false,
    "pycharm": {
     "name": "#%%\n"
    }
   }
  }
 ],
 "metadata": {
  "kernelspec": {
   "display_name": "Python 3",
   "language": "python",
   "name": "python3"
  },
  "language_info": {
   "codemirror_mode": {
    "name": "ipython",
    "version": 2
   },
   "file_extension": ".py",
   "mimetype": "text/x-python",
   "name": "python",
   "nbconvert_exporter": "python",
   "pygments_lexer": "ipython2",
   "version": "2.7.6"
  }
 },
 "nbformat": 4,
 "nbformat_minor": 0
}